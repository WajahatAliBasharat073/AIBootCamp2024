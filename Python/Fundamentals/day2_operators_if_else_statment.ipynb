{
 "cells": [
  {
   "cell_type": "markdown",
   "metadata": {},
   "source": [
    "## Opeators\n",
    "- Arithmetic Operators(+,-,/)\n",
    "- Relational Operators(>,< etc)\n",
    "- Logical Operators\n",
    "- Bitwise Operators\n",
    "- Assignment Operators\n",
    "- Membership Operators"
   ]
  },
  {
   "cell_type": "code",
   "execution_count": 1,
   "metadata": {},
   "outputs": [
    {
     "name": "stdout",
     "output_type": "stream",
     "text": [
      "11\n",
      "-1\n",
      "30\n",
      "2\n",
      "5\n",
      "25\n"
     ]
    }
   ],
   "source": [
    "## Arithematic\n",
    "print(5+6)\n",
    "print(5-6)\n",
    "print(5*6)\n",
    "print(5//2)\n",
    "print(5%10)\n",
    "print(5**2)"
   ]
  },
  {
   "cell_type": "code",
   "execution_count": 2,
   "metadata": {},
   "outputs": [
    {
     "name": "stdout",
     "output_type": "stream",
     "text": [
      "False\n",
      "True\n",
      "False\n",
      "True\n",
      "False\n",
      "True\n"
     ]
    }
   ],
   "source": [
    "## Relational Operator\n",
    "print(4>5)\n",
    "print(5<6)\n",
    "print(5>=6)\n",
    "print(5<=6)\n",
    "print(5==6)\n",
    "print(5!=6)"
   ]
  },
  {
   "cell_type": "code",
   "execution_count": 3,
   "metadata": {},
   "outputs": [
    {
     "name": "stdout",
     "output_type": "stream",
     "text": [
      "False\n",
      "True\n",
      "True\n"
     ]
    }
   ],
   "source": [
    "## Logical Operator\n",
    "print(5>6 and 5<6)\n",
    "print(5>6 or 5<6)\n",
    "print(not(5>6))"
   ]
  },
  {
   "cell_type": "code",
   "execution_count": 4,
   "metadata": {},
   "outputs": [
    {
     "name": "stdout",
     "output_type": "stream",
     "text": [
      "4\n",
      "7\n",
      "3\n",
      "-6\n",
      "20\n",
      "1\n"
     ]
    }
   ],
   "source": [
    "#Bitwise Operator\n",
    "print(5&6)\n",
    "print(5|6)\n",
    "print(5^6)\n",
    "print(~5)\n",
    "print(5<<2)\n",
    "print(5>>2)"
   ]
  },
  {
   "cell_type": "code",
   "execution_count": 5,
   "metadata": {},
   "outputs": [],
   "source": [
    "# Assignment operator\n",
    "\n"
   ]
  },
  {
   "cell_type": "code",
   "execution_count": 6,
   "metadata": {},
   "outputs": [
    {
     "name": "stdout",
     "output_type": "stream",
     "text": [
      "False\n",
      "False\n",
      "True\n",
      "True\n"
     ]
    }
   ],
   "source": [
    "## membership operator (in,not in)\n",
    "a=10\n",
    "b=20\n",
    "list=[1,2,3,4,5]\n",
    "print(a in list)\n",
    "print(b in list)\n",
    "print(a not in list)\n",
    "print(b not in list)"
   ]
  },
  {
   "cell_type": "code",
   "execution_count": 7,
   "metadata": {},
   "outputs": [
    {
     "name": "stdout",
     "output_type": "stream",
     "text": [
      "6\n"
     ]
    }
   ],
   "source": [
    "## Find sum of 3 number enter by user\n",
    "num1=int(input(\"please enter your first number\"))\n",
    "num2=int(input(\"please enter your second number\"))\n",
    "num3=int(input(\"please enter your third number\"))\n",
    "result=num1+num2+num3\n",
    "print(result)"
   ]
  },
  {
   "cell_type": "code",
   "execution_count": 9,
   "metadata": {},
   "outputs": [
    {
     "name": "stdout",
     "output_type": "stream",
     "text": [
      "5\n",
      "34\n",
      "4\n",
      "3\n",
      "3\n"
     ]
    }
   ],
   "source": [
    "## Find sum of 3 digit number enter by user #345\n",
    "num=int(input(\"Number \"))\n",
    "a=num%10\n",
    "print(a)\n",
    "num=num//10\n",
    "print(num)\n",
    "b=num%10\n",
    "print(b)\n",
    "num=num//10\n",
    "print(num)\n",
    "c=num%10\n",
    "print(c)\n",
    "result=a+b+c"
   ]
  },
  {
   "cell_type": "markdown",
   "metadata": {},
   "source": [
    "## If/Else Statement"
   ]
  },
  {
   "cell_type": "code",
   "execution_count": 10,
   "metadata": {},
   "outputs": [
    {
     "name": "stdout",
     "output_type": "stream",
     "text": [
      "Login Successfull\n"
     ]
    }
   ],
   "source": [
    "email=input(\"Email address \")\n",
    "password=input(\"password \")\n",
    "if email==\"wajahat@gmail.com\":\n",
    "    if password==\"123\":\n",
    "        print(\"Login Successfull\")\n",
    "    else:\n",
    "        print(\"Invalid Password\")\n",
    "else:\n",
    "    print(\"Invalid Email\")"
   ]
  },
  {
   "cell_type": "code",
   "execution_count": 11,
   "metadata": {},
   "outputs": [
    {
     "name": "stdout",
     "output_type": "stream",
     "text": [
      "3 is greater\n"
     ]
    }
   ],
   "source": [
    "# find maximum number among 3 numbers\n",
    "num1=int(input(\"please enter your first number\"))\n",
    "num2=int(input(\"please enter your second number\"))\n",
    "num3=int(input(\"please enter your third number\"))\n",
    "if num1>num2 and num1>num3:\n",
    "    print(num1,\"is greater\")\n",
    "elif num2>num1 and num2>num3:\n",
    "    print(num2,\"is greater\")\n",
    "else:\n",
    "    print(num3,\"is greater\")"
   ]
  },
  {
   "cell_type": "code",
   "execution_count": null,
   "metadata": {},
   "outputs": [],
   "source": []
  },
  {
   "cell_type": "markdown",
   "metadata": {},
   "source": [
    "## Modules in python\n",
    "- math\n",
    "- keywords\n",
    "- random"
   ]
  },
  {
   "cell_type": "code",
   "execution_count": 15,
   "metadata": {},
   "outputs": [],
   "source": [
    "# math\n",
    "import math"
   ]
  },
  {
   "cell_type": "code",
   "execution_count": 17,
   "metadata": {},
   "outputs": [
    {
     "data": {
      "text/plain": [
       "1220136825991110068701238785423046926253574342803192842192413588385845373153881997605496447502203281863013616477148203584163378722078177200480785205159329285477907571939330603772960859086270429174547882424912726344305670173270769461062802310452644218878789465754777149863494367781037644274033827365397471386477878495438489595537537990423241061271326984327745715546309977202781014561081188373709531016356324432987029563896628911658974769572087926928871281780070265174507768410719624390394322536422605234945850129918571501248706961568141625359056693423813008856249246891564126775654481886506593847951775360894005745238940335798476363944905313062323749066445048824665075946735862074637925184200459369692981022263971952597190945217823331756934581508552332820762820023402626907898342451712006207714640979456116127629145951237229913340169552363850942885592018727433795173014586357570828355780158735432768888680120399882384702151467605445407663535984174430480128938313896881639487469658817504506926365338175055478128640000000000000000000000000000000000000000000000000000000000000000000000000000000000000000000000000000000000000000000000000000"
      ]
     },
     "execution_count": 17,
     "metadata": {},
     "output_type": "execute_result"
    }
   ],
   "source": [
    "math.factorial(500)"
   ]
  },
  {
   "cell_type": "code",
   "execution_count": 18,
   "metadata": {},
   "outputs": [
    {
     "data": {
      "text/plain": [
       "139.00719405843714"
      ]
     },
     "execution_count": 18,
     "metadata": {},
     "output_type": "execute_result"
    }
   ],
   "source": [
    "math.sqrt(19323)"
   ]
  },
  {
   "cell_type": "code",
   "execution_count": 21,
   "metadata": {},
   "outputs": [
    {
     "data": {
      "text/plain": [
       "65"
      ]
     },
     "execution_count": 21,
     "metadata": {},
     "output_type": "execute_result"
    }
   ],
   "source": [
    "#random\n",
    "import random\n",
    "random.randint(1,100)"
   ]
  },
  {
   "cell_type": "code",
   "execution_count": 20,
   "metadata": {},
   "outputs": [
    {
     "name": "stdout",
     "output_type": "stream",
     "text": [
      "['False', 'None', 'True', 'and', 'as', 'assert', 'async', 'await', 'break', 'class', 'continue', 'def', 'del', 'elif', 'else', 'except', 'finally', 'for', 'from', 'global', 'if', 'import', 'in', 'is', 'lambda', 'nonlocal', 'not', 'or', 'pass', 'raise', 'return', 'try', 'while', 'with', 'yield']\n"
     ]
    }
   ],
   "source": [
    "#keyword\n",
    "import keyword\n",
    "print(keyword.kwlist)"
   ]
  },
  {
   "cell_type": "code",
   "execution_count": 23,
   "metadata": {},
   "outputs": [
    {
     "name": "stdout",
     "output_type": "stream",
     "text": [
      "2024-01-01 06:09:47.575316\n"
     ]
    }
   ],
   "source": [
    "import datetime\n",
    "print(datetime.datetime.today())"
   ]
  },
  {
   "cell_type": "code",
   "execution_count": 24,
   "metadata": {},
   "outputs": [
    {
     "name": "stdout",
     "output_type": "stream",
     "text": [
      "\n",
      "Please wait a moment while I gather a list of all available modules...\n",
      "\n",
      "IPython             audioop             matplotlib_inline   sys\n",
      "__future__          base64              mimetypes           sysconfig\n",
      "_abc                bdb                 mmap                tabnanny\n",
      "_aix_support        binascii            mmapfile            tarfile\n",
      "_ast                binhex              mmsystem            telnetlib\n",
      "_asyncio            bisect              modulefinder        tempfile\n",
      "_bisect             builtins            msilib              test\n",
      "_blake2             bz2                 msvcrt              textwrap\n",
      "_bootsubprocess     cProfile            multiprocessing     this\n",
      "_bz2                calendar            nest_asyncio        threading\n",
      "_codecs             cgi                 netbios             time\n",
      "_codecs_cn          cgitb               netrc               timeit\n",
      "_codecs_hk          chunk               nntplib             timer\n",
      "_codecs_iso2022     cmath               nt                  tkinter\n",
      "_codecs_jp          cmd                 ntpath              token\n",
      "_codecs_kr          code                ntsecuritycon       tokenize\n",
      "_codecs_tw          codecs              nturl2path          tornado\n",
      "_collections        codeop              numbers             trace\n",
      "_collections_abc    collections         odbc                traceback\n",
      "_compat_pickle      colorama            opcode              tracemalloc\n",
      "_compression        colorsys            operator            traitlets\n",
      "_contextvars        comm                optparse            tty\n",
      "_csv                commctrl            os                  turtle\n",
      "_ctypes             compileall          packaging           turtledemo\n",
      "_ctypes_test        concurrent          parso               types\n",
      "_datetime           configparser        pathlib             typing\n",
      "_decimal            contextlib          pdb                 unicodedata\n",
      "_distutils_hack     contextvars         perfmon             unittest\n",
      "_elementtree        copy                pickle              urllib\n",
      "_functools          copyreg             pickletools         uu\n",
      "_hashlib            crypt               pip                 uuid\n",
      "_heapq              csv                 pipes               venv\n",
      "_imp                ctypes              pkg_resources       warnings\n",
      "_io                 curses              pkgutil             wave\n",
      "_json               dataclasses         platform            wcwidth\n",
      "_locale             datetime            platformdirs        weakref\n",
      "_lsprof             dateutil            plistlib            webbrowser\n",
      "_lzma               dbi                 poplib              win2kras\n",
      "_markupbase         dbm                 posixpath           win32api\n",
      "_md5                dde                 pprint              win32clipboard\n",
      "_msi                debugpy             profile             win32com\n",
      "_multibytecodec     decimal             prompt_toolkit      win32con\n",
      "_multiprocessing    decorator           pstats              win32console\n",
      "_opcode             difflib             psutil              win32cred\n",
      "_operator           dis                 pty                 win32crypt\n",
      "_osx_support        distutils           pure_eval           win32cryptcon\n",
      "_overlapped         doctest             py_compile          win32event\n",
      "_pickle             email               pyclbr              win32evtlog\n",
      "_py_abc             encodings           pydoc               win32evtlogutil\n",
      "_pydecimal          ensurepip           pydoc_data          win32file\n",
      "_pyio               enum                pyexpat             win32gui\n",
      "_queue              errno               pygments            win32gui_struct\n",
      "_random             exceptiongroup      pythoncom           win32help\n",
      "_sha1               executing           pywin               win32inet\n",
      "_sha256             faulthandler        pywin32_bootstrap   win32inetcon\n",
      "_sha3               filecmp             pywin32_testutil    win32job\n",
      "_sha512             fileinput           pywintypes          win32lz\n",
      "_signal             fnmatch             queue               win32net\n",
      "_sitebuiltins       fractions           quopri              win32netcon\n",
      "_socket             ftplib              random              win32pdh\n",
      "_sqlite3            functools           rasutil             win32pdhquery\n",
      "_sre                gc                  re                  win32pdhutil\n",
      "_ssl                genericpath         regcheck            win32pipe\n",
      "_stat               getopt              regutil             win32print\n",
      "_statistics         getpass             reprlib             win32process\n",
      "_string             gettext             rlcompleter         win32profile\n",
      "_strptime           glob                runpy               win32ras\n",
      "_struct             graphlib            sched               win32rcparser\n",
      "_symtable           gzip                secrets             win32security\n",
      "_testbuffer         hashlib             select              win32service\n",
      "_testcapi           heapq               selectors           win32serviceutil\n",
      "_testconsole        hmac                servicemanager      win32timezone\n",
      "_testimportmultiple html                setuptools          win32trace\n",
      "_testinternalcapi   http                shelve              win32traceutil\n",
      "_testmultiphase     idlelib             shlex               win32transaction\n",
      "_thread             imaplib             shutil              win32ts\n",
      "_threading_local    imghdr              signal              win32ui\n",
      "_tkinter            imp                 site                win32uiole\n",
      "_tracemalloc        importlib           six                 win32verstamp\n",
      "_uuid               inspect             smtpd               win32wnet\n",
      "_warnings           io                  smtplib             winerror\n",
      "_weakref            ipaddress           sndhdr              winioctlcon\n",
      "_weakrefset         ipykernel           socket              winnt\n",
      "_win32sysloader     ipykernel_launcher  socketserver        winperf\n",
      "_winapi             isapi               sqlite3             winreg\n",
      "_winxptheme         itertools           sre_compile         winsound\n",
      "_xxsubinterpreters  jedi                sre_constants       winxpgui\n",
      "_zoneinfo           json                sre_parse           winxptheme\n",
      "abc                 jupyter             ssl                 wsgiref\n",
      "adodbapi            jupyter_client      sspi                xdrlib\n",
      "afxres              jupyter_core        sspicon             xml\n",
      "aifc                keyword             stack_data          xmlrpc\n",
      "antigravity         lib2to3             start_pythonwin     xxsubtype\n",
      "argparse            linecache           stat                zipapp\n",
      "array               locale              statistics          zipfile\n",
      "ast                 logging             string              zipimport\n",
      "asttokens           lzma                stringprep          zlib\n",
      "asynchat            mailbox             struct              zmq\n",
      "asyncio             mailcap             subprocess          zoneinfo\n",
      "asyncore            marshal             sunau               \n",
      "atexit              math                symtable            \n",
      "\n",
      "Enter any module name to get more help.  Or, type \"modules spam\" to search\n",
      "for modules whose name or summary contain the string \"spam\".\n",
      "\n"
     ]
    }
   ],
   "source": [
    "help('modules')"
   ]
  },
  {
   "cell_type": "markdown",
   "metadata": {},
   "source": [
    "## Loops in python\n",
    "- for loops\n",
    "- while loops\n",
    "- do while loops"
   ]
  },
  {
   "cell_type": "code",
   "execution_count": null,
   "metadata": {},
   "outputs": [],
   "source": []
  }
 ],
 "metadata": {
  "kernelspec": {
   "display_name": "myenv",
   "language": "python",
   "name": "python3"
  },
  "language_info": {
   "codemirror_mode": {
    "name": "ipython",
    "version": 3
   },
   "file_extension": ".py",
   "mimetype": "text/x-python",
   "name": "python",
   "nbconvert_exporter": "python",
   "pygments_lexer": "ipython3",
   "version": "3.10.0"
  }
 },
 "nbformat": 4,
 "nbformat_minor": 2
}
